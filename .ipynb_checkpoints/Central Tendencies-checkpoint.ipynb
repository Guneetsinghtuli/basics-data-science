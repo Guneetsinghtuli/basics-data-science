{
 "cells": [
  {
   "cell_type": "code",
   "execution_count": 6,
   "id": "c7e1f0af",
   "metadata": {},
   "outputs": [],
   "source": [
    "from collections import Counter\n",
    "from statistics import mean\n",
    "import math"
   ]
  },
  {
   "cell_type": "markdown",
   "id": "abc6ef4c",
   "metadata": {},
   "source": [
    "# Mean\n",
    "\n",
    "- Which is just the sum of the data divided by its count.\n",
    "- The mean shifts around, but it **always depends on the value of every point.**\n",
    "\n",
    "\n",
    "# Median\n",
    "- Which is the middle-most value (if the number of data points is odd) or the average of the two middle-most values (if the number of data points is even).\n",
    "- The median doesn’t depend on every value in your data\n",
    "- If you make the largest point larger (or the smallest point smaller), the middle points remain unchanged, which means so does the median.\n",
    "- **Must be sorted array** "
   ]
  },
  {
   "cell_type": "code",
   "execution_count": null,
   "id": "5a683a1d",
   "metadata": {},
   "outputs": [],
   "source": [
    "def mean:\n",
    "    "
   ]
  },
  {
   "cell_type": "code",
   "execution_count": 26,
   "id": "2886862e",
   "metadata": {},
   "outputs": [],
   "source": [
    "def median(v):\n",
    "    length = len(v)\n",
    "    v = sorted(v)\n",
    "    if(length%2 != 0):\n",
    "        # odd number of items in list\n",
    "        return v[length // 2]\n",
    "    else:\n",
    "        a = v[(length // 2) - 1]\n",
    "        b = v[(length // 2)]\n",
    "        return (a+b)/2"
   ]
  },
  {
   "cell_type": "code",
   "execution_count": 27,
   "id": "c661f639",
   "metadata": {},
   "outputs": [
    {
     "name": "stdout",
     "output_type": "stream",
     "text": [
      "4\n"
     ]
    }
   ],
   "source": [
    "print(median([4,3,6,5,2]))"
   ]
  },
  {
   "cell_type": "markdown",
   "id": "02640a3a",
   "metadata": {},
   "source": [
    "### More about mean and median\n",
    "If we have **n data points** and one of them increases by some **small amount e**, then necessarily the **mean will increase by e / n**. (This makes the mean amenable to all sorts of calculus tricks.) \n",
    "\n",
    "**mean is very sensitive to outliers in our data**\n",
    "\n",
    "Whereas in order to find the median, we have to sort our data. \n",
    "\n",
    "And changing one of our data points by a small amount e might increase the median by e, by some number less than e, or not at all (depending on the rest of the data)."
   ]
  },
  {
   "cell_type": "markdown",
   "id": "91c968a1",
   "metadata": {},
   "source": [
    "# Quantile and Percentile\n",
    "\n",
    "a = [90, 78, 60, 20, 77, 35, 99, 7, 9, 59]\n",
    "\n",
    "After sorting\n",
    "\n",
    "a = [7, 9 ,20 ,35 ,59 ,60 ,77 ,78 ,90 ,99]\n",
    "\n",
    "---\n",
    "\n",
    "___20 Percentile___ - 20% of people are having the number less than you other 80% of people are having number higher than you \n",
    "\n",
    "___70 Percentile___ - 70% of people are having the number less than you other 30% of people are having number higher than you\n",
    "\n",
    "___50 Percentile___ - 50% of people are before you and 50% are after you.\n",
    "\n",
    "---\n",
    "\n",
    "#### Quantile \n",
    "\n",
    "1. ***First Quantile - 25 Percentile***\n",
    "2. ***Second Quantile - 50 Percentile (Median)***\n",
    "3. ***Third Quantile - 75 Percentile***\n"
   ]
  },
  {
   "cell_type": "markdown",
   "id": "0a6d41b1",
   "metadata": {},
   "source": [
    "### Mode\n",
    "mode, or most-common value"
   ]
  },
  {
   "cell_type": "code",
   "execution_count": 69,
   "id": "27877f57",
   "metadata": {},
   "outputs": [],
   "source": [
    "def mode(v):\n",
    "    length = len(v)\n",
    "    if(length == 0):\n",
    "        return 0\n",
    "    a = Counter(v)\n",
    "    maximum = max(a.values())\n",
    "    return [val for val,frequency in a.items() \n",
    "        if(frequency == maximum)]"
   ]
  },
  {
   "cell_type": "code",
   "execution_count": 70,
   "id": "63d280f2",
   "metadata": {},
   "outputs": [
    {
     "name": "stdout",
     "output_type": "stream",
     "text": [
      "[5]\n"
     ]
    }
   ],
   "source": [
    "print(mode([1,2,2,2,2,2,3,5,5,5,5,5,5,6,7,7]))"
   ]
  },
  {
   "cell_type": "markdown",
   "id": "17103065",
   "metadata": {},
   "source": [
    "# Disperson\n",
    "\n",
    "- Dispersion refers to measures of how spread out our data is.\n",
    "- They’re statistics for which values near zero signify not spread out at all\n",
    "- Large values (whatever that means) signify very spread out\n",
    "- **A very simple measure is the range, which is just the difference between the largest and smallest elements**"
   ]
  },
  {
   "cell_type": "code",
   "execution_count": 71,
   "id": "50abc0a9",
   "metadata": {},
   "outputs": [],
   "source": [
    "def data_range(v):\n",
    "    max(v) - min(v)"
   ]
  },
  {
   "cell_type": "markdown",
   "id": "dce01626",
   "metadata": {},
   "source": [
    "## Variance \n"
   ]
  },
  {
   "cell_type": "code",
   "execution_count": 7,
   "id": "01bfd2bd",
   "metadata": {},
   "outputs": [],
   "source": [
    "def de_mean(x):\n",
    "    x_bar = mean(x)\n",
    "    return [x_i - x_bar for x_i in x]\n",
    "\n",
    "def sum_of_squares(x):\n",
    "    return sum(i * i for i in x)\n",
    "    \n",
    "\n",
    "def variance(x):\n",
    "    n = len(x)\n",
    "    deviation = de_mean(x)\n",
    "    return sum_of_squares(deviation) / (n-1)\n"
   ]
  },
  {
   "cell_type": "code",
   "execution_count": 4,
   "id": "a6d3c18f",
   "metadata": {},
   "outputs": [
    {
     "data": {
      "text/plain": [
       "12.666666666666666"
      ]
     },
     "execution_count": 4,
     "metadata": {},
     "output_type": "execute_result"
    }
   ],
   "source": [
    "variance([1,2,5,8,9,9])"
   ]
  },
  {
   "cell_type": "code",
   "execution_count": 8,
   "id": "a3ff80fb",
   "metadata": {},
   "outputs": [
    {
     "data": {
      "text/plain": [
       "3.559026084010437"
      ]
     },
     "execution_count": 8,
     "metadata": {},
     "output_type": "execute_result"
    }
   ],
   "source": [
    "def standard_deviation(x):\n",
    "    return math.sqrt(variance(x))\n",
    "\n",
    "standard_deviation([1,2,5,8,9,9])"
   ]
  },
  {
   "cell_type": "markdown",
   "id": "e6c8591b",
   "metadata": {},
   "source": [
    "Both the range and the standard deviation have the same outlier problem that we saw earlier for the mean. Using the same example, if our friendliest user had instead 200 friends, the standard deviation would be 14.89, more than 60% higher!"
   ]
  },
  {
   "cell_type": "code",
   "execution_count": 9,
   "id": "7b181c76",
   "metadata": {},
   "outputs": [],
   "source": [
    "def interquartile_range():\n",
    "    return "
   ]
  },
  {
   "cell_type": "markdown",
   "id": "d32b02ef",
   "metadata": {},
   "source": [
    "### Co-Variance\n",
    "the paired analogue of variance. Whereas variance measures how a single variable deviates from its mean, covariance measures how two variables vary in tandem from their means"
   ]
  },
  {
   "cell_type": "code",
   "execution_count": 10,
   "id": "32e0cd63",
   "metadata": {},
   "outputs": [],
   "source": [
    "def dot(x,y):\n",
    "    return sum(i*j for i,j in zip(x,y))\n",
    "\n",
    "def coVariance(x,y):\n",
    "    # X and Y have same length \n",
    "    n = len(x)\n",
    "    return dot(de_mean(x),de_mean(y)) / (n - 1)\n"
   ]
  },
  {
   "cell_type": "code",
   "execution_count": 11,
   "id": "c676ea9a",
   "metadata": {},
   "outputs": [],
   "source": [
    "def correlation(x, y):\n",
    "    stdev_x = standard_deviation(x) \n",
    "    stdev_y = standard_deviation(y) \n",
    "    if stdev_x > 0 and stdev_y > 0:\n",
    "        return covariance(x, y) / stdev_x / stdev_y \n",
    "    else:\n",
    "        return 0 # if no variation, correlation is zero "
   ]
  },
  {
   "cell_type": "markdown",
   "id": "d303dfc9",
   "metadata": {},
   "source": [
    "The correlation is unitless and always lies between -1 (perfect anti-correlation) and 1 (perfect correlation). A number like 0.25 represents a relatively weak positive corre‐ lation."
   ]
  },
  {
   "cell_type": "code",
   "execution_count": null,
   "id": "dc352bad",
   "metadata": {},
   "outputs": [],
   "source": []
  }
 ],
 "metadata": {
  "kernelspec": {
   "display_name": "Python 3 (ipykernel)",
   "language": "python",
   "name": "python3"
  },
  "language_info": {
   "codemirror_mode": {
    "name": "ipython",
    "version": 3
   },
   "file_extension": ".py",
   "mimetype": "text/x-python",
   "name": "python",
   "nbconvert_exporter": "python",
   "pygments_lexer": "ipython3",
   "version": "3.9.0"
  }
 },
 "nbformat": 4,
 "nbformat_minor": 5
}
